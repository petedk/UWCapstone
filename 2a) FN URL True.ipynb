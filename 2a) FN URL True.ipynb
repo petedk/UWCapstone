{
 "cells": [
  {
   "cell_type": "code",
   "execution_count": 1,
   "metadata": {},
   "outputs": [],
   "source": [
    "# Add testing url body text to csv to train a model:\n"
   ]
  },
  {
   "cell_type": "code",
   "execution_count": 2,
   "metadata": {},
   "outputs": [],
   "source": [
    "import os, sys, re, time, gc, csv\n",
    "read_loc = 'dataset/Raw/Read/'\n",
    "store_loc = 'dataset/Raw/'\n",
    "save_loc = f'{store_loc}LIWC/'\n",
    "\n",
    "read_file = 'URL_True' # URL_True, True, Fake\n",
    "\n",
    "Notebook_start = time.time()\n",
    "\n",
    "is_URL = False\n",
    "sufix = 'base'\n",
    "folders = ['base_body','base_title']\n",
    "if 'URL' in read_file:\n",
    "    is_URL = True\n",
    "    sufix = 'url'\n",
    "    folders = ['url_body','url_title']\n",
    "    \n",
    "\n",
    "from LIWC_Methods import Custom_Methods \n",
    "\n",
    "\n",
    "import pandas as pd\n",
    "import numpy as np\n"
   ]
  },
  {
   "cell_type": "code",
   "execution_count": 3,
   "metadata": {},
   "outputs": [
    {
     "name": "stdout",
     "output_type": "stream",
     "text": [
      "Delete loc:  dataset/Raw/LIWC/url_body/\n",
      "Delete loc:  dataset/Raw/LIWC/url_title/\n"
     ]
    }
   ],
   "source": [
    "folders = ['url_body','url_title']\n",
    "#Delete all TF_dicts:(Only run for the true part):\n",
    "for folder in folders:\n",
    "    loc = f'{save_loc}{folder}/'\n",
    "    print('Delete loc: ',loc)\n",
    "    for f in os.listdir(loc):\n",
    "        os.remove(os.path.join(loc, f))"
   ]
  },
  {
   "cell_type": "code",
   "execution_count": 4,
   "metadata": {},
   "outputs": [],
   "source": [
    "CM = Custom_Methods()"
   ]
  },
  {
   "cell_type": "code",
   "execution_count": 5,
   "metadata": {},
   "outputs": [
    {
     "name": "stdout",
     "output_type": "stream",
     "text": [
      "dataset/Raw/Read/.csv\n"
     ]
    },
    {
     "data": {
      "text/html": [
       "<div>\n",
       "<style scoped>\n",
       "    .dataframe tbody tr th:only-of-type {\n",
       "        vertical-align: middle;\n",
       "    }\n",
       "\n",
       "    .dataframe tbody tr th {\n",
       "        vertical-align: top;\n",
       "    }\n",
       "\n",
       "    .dataframe thead th {\n",
       "        text-align: right;\n",
       "    }\n",
       "</style>\n",
       "<table border=\"1\" class=\"dataframe\">\n",
       "  <thead>\n",
       "    <tr style=\"text-align: right;\">\n",
       "      <th></th>\n",
       "      <th>id</th>\n",
       "      <th>news_url</th>\n",
       "      <th>source</th>\n",
       "      <th>title</th>\n",
       "      <th>body</th>\n",
       "      <th>class</th>\n",
       "      <th>title_url_min</th>\n",
       "      <th>body_url_min</th>\n",
       "      <th>title_url</th>\n",
       "      <th>body_url</th>\n",
       "      <th>title_stem</th>\n",
       "      <th>body_stem</th>\n",
       "      <th>link_cnt</th>\n",
       "      <th>process_state</th>\n",
       "    </tr>\n",
       "  </thead>\n",
       "  <tbody>\n",
       "    <tr>\n",
       "      <th>0</th>\n",
       "      <td>True_kag_0</td>\n",
       "      <td>http://www.bbc.com/news/world-us-canada-414191...</td>\n",
       "      <td>bbc.com</td>\n",
       "      <td>Four ways Bob Corker skewered Donald Trump</td>\n",
       "      <td>Image copyright Getty Images\\nOn Sunday mornin...</td>\n",
       "      <td>0</td>\n",
       "      <td></td>\n",
       "      <td></td>\n",
       "      <td></td>\n",
       "      <td></td>\n",
       "      <td></td>\n",
       "      <td></td>\n",
       "      <td>0</td>\n",
       "      <td>Pass</td>\n",
       "    </tr>\n",
       "    <tr>\n",
       "      <th>1</th>\n",
       "      <td>True_kag_1</td>\n",
       "      <td>https://www.reuters.com/article/us-filmfestiva...</td>\n",
       "      <td>reuters.com</td>\n",
       "      <td>Linklater's war veteran comedy speaks to moder...</td>\n",
       "      <td>LONDON (Reuters) - “Last Flag Flying”, a comed...</td>\n",
       "      <td>0</td>\n",
       "      <td></td>\n",
       "      <td></td>\n",
       "      <td></td>\n",
       "      <td></td>\n",
       "      <td></td>\n",
       "      <td></td>\n",
       "      <td>0</td>\n",
       "      <td>Pass</td>\n",
       "    </tr>\n",
       "    <tr>\n",
       "      <th>2</th>\n",
       "      <td>True_kag_100</td>\n",
       "      <td>https://www.reuters.com/article/us-hitachi-kok...</td>\n",
       "      <td>reuters.com</td>\n",
       "      <td>Elliott again ups Hitachi Kokusai stake, KKR r...</td>\n",
       "      <td>TOKYO (Reuters) - U.S. hedge fund Elliott Mana...</td>\n",
       "      <td>0</td>\n",
       "      <td></td>\n",
       "      <td></td>\n",
       "      <td></td>\n",
       "      <td></td>\n",
       "      <td></td>\n",
       "      <td></td>\n",
       "      <td>0</td>\n",
       "      <td>Pass</td>\n",
       "    </tr>\n",
       "    <tr>\n",
       "      <th>3</th>\n",
       "      <td>True_kag_1000</td>\n",
       "      <td>http://www.bbc.com/news/world-us-canada-415394...</td>\n",
       "      <td>bbc.com</td>\n",
       "      <td>Rapper Nelly arrested over alleged tour bus rape</td>\n",
       "      <td>Image caption A lawyer for the 42-year-old art...</td>\n",
       "      <td>0</td>\n",
       "      <td></td>\n",
       "      <td></td>\n",
       "      <td></td>\n",
       "      <td></td>\n",
       "      <td></td>\n",
       "      <td></td>\n",
       "      <td>0</td>\n",
       "      <td>Pass</td>\n",
       "    </tr>\n",
       "    <tr>\n",
       "      <th>4</th>\n",
       "      <td>True_kag_1001</td>\n",
       "      <td>http://abcnews.go.com/Politics/wireStory/senat...</td>\n",
       "      <td>abcnews.go.com</td>\n",
       "      <td>Senate bill to clear obstacles to self-driving...</td>\n",
       "      <td>Legislation that could help usher in a new era...</td>\n",
       "      <td>0</td>\n",
       "      <td></td>\n",
       "      <td></td>\n",
       "      <td></td>\n",
       "      <td></td>\n",
       "      <td></td>\n",
       "      <td></td>\n",
       "      <td>0</td>\n",
       "      <td>Pass</td>\n",
       "    </tr>\n",
       "    <tr>\n",
       "      <th>...</th>\n",
       "      <td>...</td>\n",
       "      <td>...</td>\n",
       "      <td>...</td>\n",
       "      <td>...</td>\n",
       "      <td>...</td>\n",
       "      <td>...</td>\n",
       "      <td>...</td>\n",
       "      <td>...</td>\n",
       "      <td>...</td>\n",
       "      <td>...</td>\n",
       "      <td>...</td>\n",
       "      <td>...</td>\n",
       "      <td>...</td>\n",
       "      <td>...</td>\n",
       "    </tr>\n",
       "    <tr>\n",
       "      <th>2301</th>\n",
       "      <td>True_pol_971</td>\n",
       "      <td>http://www.youtube.com/watch?v=Yj3QAzSWVA4</td>\n",
       "      <td>youtube.com</td>\n",
       "      <td>NaN</td>\n",
       "      <td>NaN</td>\n",
       "      <td>0</td>\n",
       "      <td></td>\n",
       "      <td></td>\n",
       "      <td></td>\n",
       "      <td></td>\n",
       "      <td></td>\n",
       "      <td></td>\n",
       "      <td>0</td>\n",
       "      <td>Pass</td>\n",
       "    </tr>\n",
       "    <tr>\n",
       "      <th>2302</th>\n",
       "      <td>True_pol_98</td>\n",
       "      <td>http://thomas.loc.gov/cgi-bin/bdquery/z?d109:H...</td>\n",
       "      <td>thomas.loc.gov</td>\n",
       "      <td>NaN</td>\n",
       "      <td>NaN</td>\n",
       "      <td>0</td>\n",
       "      <td></td>\n",
       "      <td></td>\n",
       "      <td></td>\n",
       "      <td></td>\n",
       "      <td></td>\n",
       "      <td></td>\n",
       "      <td>0</td>\n",
       "      <td>Pass</td>\n",
       "    </tr>\n",
       "    <tr>\n",
       "      <th>2303</th>\n",
       "      <td>True_pol_988</td>\n",
       "      <td>http://www.youtube.com/watch?v=THrGMfM3Nqs</td>\n",
       "      <td>youtube.com</td>\n",
       "      <td>NaN</td>\n",
       "      <td>NaN</td>\n",
       "      <td>0</td>\n",
       "      <td></td>\n",
       "      <td></td>\n",
       "      <td></td>\n",
       "      <td></td>\n",
       "      <td></td>\n",
       "      <td></td>\n",
       "      <td>0</td>\n",
       "      <td>Pass</td>\n",
       "    </tr>\n",
       "    <tr>\n",
       "      <th>2304</th>\n",
       "      <td>True_pol_99</td>\n",
       "      <td>http://transcripts.cnn.com/TRANSCRIPTS/0706/05...</td>\n",
       "      <td>transcripts.cnn.com</td>\n",
       "      <td>NaN</td>\n",
       "      <td>NaN</td>\n",
       "      <td>0</td>\n",
       "      <td></td>\n",
       "      <td></td>\n",
       "      <td></td>\n",
       "      <td></td>\n",
       "      <td></td>\n",
       "      <td></td>\n",
       "      <td>0</td>\n",
       "      <td>Pass</td>\n",
       "    </tr>\n",
       "    <tr>\n",
       "      <th>2305</th>\n",
       "      <td>True_pol_990</td>\n",
       "      <td>http://www.youtube.com/watch?v=Ud3mMj0AZZk</td>\n",
       "      <td>youtube.com</td>\n",
       "      <td>NaN</td>\n",
       "      <td>NaN</td>\n",
       "      <td>0</td>\n",
       "      <td></td>\n",
       "      <td></td>\n",
       "      <td></td>\n",
       "      <td></td>\n",
       "      <td></td>\n",
       "      <td></td>\n",
       "      <td>0</td>\n",
       "      <td>Pass</td>\n",
       "    </tr>\n",
       "  </tbody>\n",
       "</table>\n",
       "<p>2306 rows × 14 columns</p>\n",
       "</div>"
      ],
      "text/plain": [
       "                 id                                           news_url  \\\n",
       "0        True_kag_0  http://www.bbc.com/news/world-us-canada-414191...   \n",
       "1        True_kag_1  https://www.reuters.com/article/us-filmfestiva...   \n",
       "2      True_kag_100  https://www.reuters.com/article/us-hitachi-kok...   \n",
       "3     True_kag_1000  http://www.bbc.com/news/world-us-canada-415394...   \n",
       "4     True_kag_1001  http://abcnews.go.com/Politics/wireStory/senat...   \n",
       "...             ...                                                ...   \n",
       "2301   True_pol_971         http://www.youtube.com/watch?v=Yj3QAzSWVA4   \n",
       "2302    True_pol_98  http://thomas.loc.gov/cgi-bin/bdquery/z?d109:H...   \n",
       "2303   True_pol_988         http://www.youtube.com/watch?v=THrGMfM3Nqs   \n",
       "2304    True_pol_99  http://transcripts.cnn.com/TRANSCRIPTS/0706/05...   \n",
       "2305   True_pol_990         http://www.youtube.com/watch?v=Ud3mMj0AZZk   \n",
       "\n",
       "                   source                                              title  \\\n",
       "0                 bbc.com         Four ways Bob Corker skewered Donald Trump   \n",
       "1             reuters.com  Linklater's war veteran comedy speaks to moder...   \n",
       "2             reuters.com  Elliott again ups Hitachi Kokusai stake, KKR r...   \n",
       "3                 bbc.com   Rapper Nelly arrested over alleged tour bus rape   \n",
       "4          abcnews.go.com  Senate bill to clear obstacles to self-driving...   \n",
       "...                   ...                                                ...   \n",
       "2301          youtube.com                                                NaN   \n",
       "2302       thomas.loc.gov                                                NaN   \n",
       "2303          youtube.com                                                NaN   \n",
       "2304  transcripts.cnn.com                                                NaN   \n",
       "2305          youtube.com                                                NaN   \n",
       "\n",
       "                                                   body  class title_url_min  \\\n",
       "0     Image copyright Getty Images\\nOn Sunday mornin...      0                 \n",
       "1     LONDON (Reuters) - “Last Flag Flying”, a comed...      0                 \n",
       "2     TOKYO (Reuters) - U.S. hedge fund Elliott Mana...      0                 \n",
       "3     Image caption A lawyer for the 42-year-old art...      0                 \n",
       "4     Legislation that could help usher in a new era...      0                 \n",
       "...                                                 ...    ...           ...   \n",
       "2301                                                NaN      0                 \n",
       "2302                                                NaN      0                 \n",
       "2303                                                NaN      0                 \n",
       "2304                                                NaN      0                 \n",
       "2305                                                NaN      0                 \n",
       "\n",
       "     body_url_min title_url body_url title_stem body_stem  link_cnt  \\\n",
       "0                                                                 0   \n",
       "1                                                                 0   \n",
       "2                                                                 0   \n",
       "3                                                                 0   \n",
       "4                                                                 0   \n",
       "...           ...       ...      ...        ...       ...       ...   \n",
       "2301                                                              0   \n",
       "2302                                                              0   \n",
       "2303                                                              0   \n",
       "2304                                                              0   \n",
       "2305                                                              0   \n",
       "\n",
       "     process_state  \n",
       "0             Pass  \n",
       "1             Pass  \n",
       "2             Pass  \n",
       "3             Pass  \n",
       "4             Pass  \n",
       "...            ...  \n",
       "2301          Pass  \n",
       "2302          Pass  \n",
       "2303          Pass  \n",
       "2304          Pass  \n",
       "2305          Pass  \n",
       "\n",
       "[2306 rows x 14 columns]"
      ]
     },
     "execution_count": 5,
     "metadata": {},
     "output_type": "execute_result"
    }
   ],
   "source": [
    "print(f'{read_loc}.csv')\n",
    "df_old = pd.read_csv(f'{read_loc}{read_file}.csv',error_bad_lines=False, quotechar='\"', thousands=',' ,low_memory=False)\n",
    "\n",
    "if is_URL:    \n",
    "    idx = list(df_old[df_old.body != ' '].index)\n",
    "    df_old = df_old.loc[idx]\n",
    "else:\n",
    "    idx = list(df_old[df_old.body != ' '].index)\n",
    "    df_old = df_old.loc[idx]\n",
    "    idx = list(df_old[df_old.title != ' '].index)\n",
    "    df_old = df_old.loc[idx]\n",
    "    \n",
    "df_old.sort_values(by=['id'],inplace=True)\n",
    "df_old.reset_index(drop=True,inplace=True)\n",
    "df_old['title_url_min'] = ''\n",
    "df_old['body_url_min'] = ''\n",
    "df_old['title_url'] = ''\n",
    "df_old['body_url'] = ''\n",
    "df_old['title_stem'] = ''\n",
    "df_old['body_stem'] = ''\n",
    "df_old['link_cnt'] = 0\n",
    "df_old['process_state'] = 'Pass'\n",
    "\n",
    "df_old"
   ]
  },
  {
   "cell_type": "code",
   "execution_count": 6,
   "metadata": {},
   "outputs": [
    {
     "data": {
      "text/plain": [
       "0.7649609713790113"
      ]
     },
     "execution_count": 6,
     "metadata": {},
     "output_type": "execute_result"
    }
   ],
   "source": [
    "len(df_old[df_old.id.str.contains('kag')])/len(df_old)"
   ]
  },
  {
   "cell_type": "code",
   "execution_count": 7,
   "metadata": {},
   "outputs": [
    {
     "data": {
      "text/plain": [
       "0.0"
      ]
     },
     "execution_count": 7,
     "metadata": {},
     "output_type": "execute_result"
    }
   ],
   "source": [
    "len(df_old[df_old.id.str.contains('gos')])/len(df_old)"
   ]
  },
  {
   "cell_type": "code",
   "execution_count": 8,
   "metadata": {},
   "outputs": [
    {
     "data": {
      "text/plain": [
       "0.23503902862098872"
      ]
     },
     "execution_count": 8,
     "metadata": {},
     "output_type": "execute_result"
    }
   ],
   "source": [
    "len(df_old[df_old.id.str.contains('pol')])/len(df_old)"
   ]
  },
  {
   "cell_type": "code",
   "execution_count": 9,
   "metadata": {
    "tags": []
   },
   "outputs": [
    {
     "data": {
      "text/plain": [
       "(2306, 14)"
      ]
     },
     "execution_count": 9,
     "metadata": {},
     "output_type": "execute_result"
    }
   ],
   "source": [
    "df_old.shape"
   ]
  },
  {
   "cell_type": "code",
   "execution_count": 10,
   "metadata": {},
   "outputs": [
    {
     "name": "stdout",
     "output_type": "stream",
     "text": [
      "Total time:0  , Cycle time: 0.0, RowID:0 Attempting URL number:True_kag_0, URL: http://www.bbc.com/news/world-us-canada-41419190\n",
      "\n",
      "Total time:11  , Cycle time: 10.7, RowID:250 Attempting URL number:True_kag_1478, URL: http://www.cnn.com/videos/sports/2017/02/24/jameis-winston-ladies-are-supposed-to-be-silent-elementary-students-talk.hln\n",
      "Total time:22  , Cycle time: 11.3, RowID:500 Attempting URL number:True_kag_1978, URL: https://www.nytimes.com/2017/10/11/theater/michael-friedman-aids-death-theater.html?rref=collection%2Fsectioncollection%2Farts\n",
      "\n",
      "Total time:33  , Cycle time: 10.9, RowID:750 Attempting URL number:True_kag_2501, URL: https://www.reuters.com/article/us-baseball-mlb-playoffs/highlights-of-wednesdays-mlb-playoff-games-idUSKBN1CH0HE\n",
      "\n",
      "Total time:44  , Cycle time: 11.5, RowID:1000 Attempting URL number:True_kag_3045, URL: https://www.reuters.com/article/us-fifa-pakistan-ban/pakistan-barred-from-international-football-idUSKBN1CG0W5\n",
      "\n",
      "Total time:56  , Cycle time: 11.7, RowID:1250 Attempting URL number:True_kag_3513, URL: https://www.reuters.com/article/us-italy-politics-vote/italys-5-star-protests-as-parliament-votes-on-electoral-law-idUSKBN1CG1MC\n",
      "\n",
      "Total time:68  , Cycle time: 11.9, RowID:1500 Attempting URL number:True_kag_485, URL: http://www.cnn.com/videos/justice/2017/09/30/oj-simpson-attorney-malcolm-lavergne-vercammen-intv-sot.cnn\n",
      "Total time:79  , Cycle time: 10.6, RowID:1750 Attempting URL number:True_kag_975, URL: http://www.cnn.com/videos/us/2017/10/05/las-vegas-shooting-first-responders-medical-staff-vstan-mss-orig.cnn/video/playlists/cant-miss/\n",
      "\n",
      "Total time:103  , Cycle time: 24.9, RowID:2000 Attempting URL number:True_pol_306, URL: http://abcnews.go.com/ThisWeek/week-transcript-target-libya/story?id=13178623&page=3\n",
      "Total time:132  , Cycle time: 28.4, RowID:2250 Attempting URL number:True_pol_75, URL: http://www.facebook.com/notes/sarah-palin/americas-enduring-strength/487510653434\n",
      "Total time in minutes: 135: "
     ]
    }
   ],
   "source": [
    "i = 0\n",
    "start = time.time()\n",
    "last_start = start\n",
    "save_text = True\n",
    "    \n",
    "end_cnt = len(df_old)\n",
    "# end_cnt = 100\n",
    "\n",
    "\n",
    "for idx, row in df_old[i:end_cnt].iterrows():\n",
    "    if idx != -1:\n",
    "        # print(idx,end=', ')\n",
    "        gc.collect()\n",
    "        if idx%250==0:\n",
    "            last_start = CM.print_progress(idx,row,start,last_start)\n",
    "        try:\n",
    "            if is_URL:\n",
    "                row = CM.scrap_page(row)\n",
    "            else:\n",
    "                row = CM.clean_text(row,idx)\n",
    "            if (\"page not found\" in row.title_url) or ('page unavailable' in row.title_url) or (\"scrapper blocked by website\" in row.title_url):\n",
    "                row.process_state = 'Failed'\n",
    "                save_text = False\n",
    "                # print(f'failed to clean text for idx:{idx}, ID: {row[\"id\"]}')\n",
    "\n",
    "            df = row.copy().to_frame().T\n",
    "            if pd.notnull(df.body_url[idx]):\n",
    "                if ((len(df.body_url[idx]) > 25) and (save_text == True)): # for LIWC Processing\n",
    "                    # print('Text Saved')\n",
    "                    for part in ['title','body']:\n",
    "                        col = ['id',f'{part}_url']\n",
    "                        id_ = df.id[idx]\n",
    "                        CM.save_LIWC_csv(save_loc,idx,df,part,sufix, id_)                     \n",
    "                else:\n",
    "                    # print(f'Text Not Saved for idx:{idx}, ID: {row[\"id\"]}')\n",
    "                    row.process_state = 'Failed'\n",
    "                    save_text = True\n",
    "            else:\n",
    "                # print(f'df.body_url is null for idx:{idx}, ID: {row[\"id\"]}')\n",
    "                row.process_state = 'Failed'\n",
    "                save_text = True\n",
    "             \n",
    "            \n",
    "        except:\n",
    "            row.process_state = 'Failed'\n",
    "            save_text = True\n",
    "            # print(f'failed to clean text for idx:{idx}, ID: {row[\"id\"]}')\n",
    "            \n",
    "            \n",
    "        CM.save_file(idx,df,read_file) \n",
    "\n",
    "end = time.time()\n",
    "print(f'Total time in minutes: {int((end-start)/60)}', end=': ')"
   ]
  },
  {
   "cell_type": "code",
   "execution_count": 11,
   "metadata": {},
   "outputs": [
    {
     "name": "stdout",
     "output_type": "stream",
     "text": [
      "Done\n"
     ]
    }
   ],
   "source": [
    "print('Done')"
   ]
  },
  {
   "cell_type": "code",
   "execution_count": 12,
   "metadata": {},
   "outputs": [
    {
     "name": "stdout",
     "output_type": "stream",
     "text": [
      "dataset/Raw/URL_True.csv\n",
      "94.0\n",
      "95.0\n"
     ]
    },
    {
     "data": {
      "text/html": [
       "<div>\n",
       "<style scoped>\n",
       "    .dataframe tbody tr th:only-of-type {\n",
       "        vertical-align: middle;\n",
       "    }\n",
       "\n",
       "    .dataframe tbody tr th {\n",
       "        vertical-align: top;\n",
       "    }\n",
       "\n",
       "    .dataframe thead th {\n",
       "        text-align: right;\n",
       "    }\n",
       "</style>\n",
       "<table border=\"1\" class=\"dataframe\">\n",
       "  <thead>\n",
       "    <tr style=\"text-align: right;\">\n",
       "      <th></th>\n",
       "      <th>id</th>\n",
       "      <th>news_url</th>\n",
       "      <th>source</th>\n",
       "      <th>title</th>\n",
       "      <th>body</th>\n",
       "      <th>class</th>\n",
       "      <th>title_url_min</th>\n",
       "      <th>body_url_min</th>\n",
       "      <th>title_url</th>\n",
       "      <th>body_url</th>\n",
       "      <th>title_stem</th>\n",
       "      <th>body_stem</th>\n",
       "      <th>link_cnt</th>\n",
       "      <th>process_state</th>\n",
       "    </tr>\n",
       "  </thead>\n",
       "  <tbody>\n",
       "    <tr>\n",
       "      <th>0</th>\n",
       "      <td>True_kag_0</td>\n",
       "      <td>http://www.bbc.com/news/world-us-canada-414191...</td>\n",
       "      <td>bbc.com</td>\n",
       "      <td>Four ways Bob Corker skewered Donald Trump</td>\n",
       "      <td>Image copyright Getty Images\\nOn Sunday mornin...</td>\n",
       "      <td>0</td>\n",
       "      <td>four ways bob corker skewered donald trump</td>\n",
       "      <td>four ways bob corker skewered donald trump ant...</td>\n",
       "      <td>four ways bob corker skewered donald trump</td>\n",
       "      <td>four ways bob corker skewered donald trump ant...</td>\n",
       "      <td>four way bob corker skewer donald trump</td>\n",
       "      <td>four way bob corker skewer donald trump anthon...</td>\n",
       "      <td>111.0</td>\n",
       "      <td>Pass</td>\n",
       "    </tr>\n",
       "    <tr>\n",
       "      <th>1</th>\n",
       "      <td>True_kag_1</td>\n",
       "      <td>https://www.reuters.com/article/us-filmfestiva...</td>\n",
       "      <td>reuters.com</td>\n",
       "      <td>Linklater's war veteran comedy speaks to moder...</td>\n",
       "      <td>LONDON (Reuters) - “Last Flag Flying”, a comed...</td>\n",
       "      <td>0</td>\n",
       "      <td>linklater's war veteran comedy speaks to moder...</td>\n",
       "      <td>“last flag flying”, a comedy-drama about viet...</td>\n",
       "      <td>linklater s war veteran comedy speaks to moder...</td>\n",
       "      <td>last flag flying a comedy drama about vietnam ...</td>\n",
       "      <td>linklat war veteran comedi speak modern americ...</td>\n",
       "      <td>last flag fli comedi drama vietnam war veteran...</td>\n",
       "      <td>18.0</td>\n",
       "      <td>Pass</td>\n",
       "    </tr>\n",
       "    <tr>\n",
       "      <th>2</th>\n",
       "      <td>True_kag_100</td>\n",
       "      <td>https://www.reuters.com/article/us-hitachi-kok...</td>\n",
       "      <td>reuters.com</td>\n",
       "      <td>Elliott again ups Hitachi Kokusai stake, KKR r...</td>\n",
       "      <td>TOKYO (Reuters) - U.S. hedge fund Elliott Mana...</td>\n",
       "      <td>0</td>\n",
       "      <td>elliott again ups hitachi kokusai stake, kkr r...</td>\n",
       "      <td>u.s. hedge fund elliott management corp has r...</td>\n",
       "      <td>elliott again ups hitachi kokusai stake kkr ra...</td>\n",
       "      <td>u s hedge fund elliott management corp has rai...</td>\n",
       "      <td>elliott up hitachi kokusai stake kkr rais offe...</td>\n",
       "      <td>u hedg fund elliott manag corp rais stake japa...</td>\n",
       "      <td>16.0</td>\n",
       "      <td>Pass</td>\n",
       "    </tr>\n",
       "    <tr>\n",
       "      <th>3</th>\n",
       "      <td>True_kag_1000</td>\n",
       "      <td>http://www.bbc.com/news/world-us-canada-415394...</td>\n",
       "      <td>bbc.com</td>\n",
       "      <td>Rapper Nelly arrested over alleged tour bus rape</td>\n",
       "      <td>Image caption A lawyer for the 42-year-old art...</td>\n",
       "      <td>0</td>\n",
       "      <td>rapper nelly arrested over alleged tour bus rape</td>\n",
       "      <td>rapper nelly arrested over alleged tour bus ra...</td>\n",
       "      <td>rapper nelly arrested over alleged tour bus rape</td>\n",
       "      <td>rapper nelly arrested over alleged tour bus ra...</td>\n",
       "      <td>rapper nelli arrest alleg tour bu rape</td>\n",
       "      <td>rapper nelli arrest alleg tour bu rape publish...</td>\n",
       "      <td>107.0</td>\n",
       "      <td>Pass</td>\n",
       "    </tr>\n",
       "    <tr>\n",
       "      <th>4</th>\n",
       "      <td>True_kag_1001</td>\n",
       "      <td>http://abcnews.go.com/Politics/wireStory/senat...</td>\n",
       "      <td>abcnews.go.com</td>\n",
       "      <td>Senate bill to clear obstacles to self-driving...</td>\n",
       "      <td>Legislation that could help usher in a new era...</td>\n",
       "      <td>0</td>\n",
       "      <td>page unavailable</td>\n",
       "      <td>sections sections top stories video live u.s. ...</td>\n",
       "      <td>page unavailable</td>\n",
       "      <td>sections sections top stories video live u s p...</td>\n",
       "      <td>page unavail</td>\n",
       "      <td>section section top stori video live u polit e...</td>\n",
       "      <td>67.0</td>\n",
       "      <td>Pass</td>\n",
       "    </tr>\n",
       "  </tbody>\n",
       "</table>\n",
       "</div>"
      ],
      "text/plain": [
       "              id                                           news_url  \\\n",
       "0     True_kag_0  http://www.bbc.com/news/world-us-canada-414191...   \n",
       "1     True_kag_1  https://www.reuters.com/article/us-filmfestiva...   \n",
       "2   True_kag_100  https://www.reuters.com/article/us-hitachi-kok...   \n",
       "3  True_kag_1000  http://www.bbc.com/news/world-us-canada-415394...   \n",
       "4  True_kag_1001  http://abcnews.go.com/Politics/wireStory/senat...   \n",
       "\n",
       "           source                                              title  \\\n",
       "0         bbc.com         Four ways Bob Corker skewered Donald Trump   \n",
       "1     reuters.com  Linklater's war veteran comedy speaks to moder...   \n",
       "2     reuters.com  Elliott again ups Hitachi Kokusai stake, KKR r...   \n",
       "3         bbc.com   Rapper Nelly arrested over alleged tour bus rape   \n",
       "4  abcnews.go.com  Senate bill to clear obstacles to self-driving...   \n",
       "\n",
       "                                                body  class  \\\n",
       "0  Image copyright Getty Images\\nOn Sunday mornin...      0   \n",
       "1  LONDON (Reuters) - “Last Flag Flying”, a comed...      0   \n",
       "2  TOKYO (Reuters) - U.S. hedge fund Elliott Mana...      0   \n",
       "3  Image caption A lawyer for the 42-year-old art...      0   \n",
       "4  Legislation that could help usher in a new era...      0   \n",
       "\n",
       "                                       title_url_min  \\\n",
       "0         four ways bob corker skewered donald trump   \n",
       "1  linklater's war veteran comedy speaks to moder...   \n",
       "2  elliott again ups hitachi kokusai stake, kkr r...   \n",
       "3   rapper nelly arrested over alleged tour bus rape   \n",
       "4                                   page unavailable   \n",
       "\n",
       "                                        body_url_min  \\\n",
       "0  four ways bob corker skewered donald trump ant...   \n",
       "1   “last flag flying”, a comedy-drama about viet...   \n",
       "2   u.s. hedge fund elliott management corp has r...   \n",
       "3  rapper nelly arrested over alleged tour bus ra...   \n",
       "4  sections sections top stories video live u.s. ...   \n",
       "\n",
       "                                           title_url  \\\n",
       "0         four ways bob corker skewered donald trump   \n",
       "1  linklater s war veteran comedy speaks to moder...   \n",
       "2  elliott again ups hitachi kokusai stake kkr ra...   \n",
       "3   rapper nelly arrested over alleged tour bus rape   \n",
       "4                                   page unavailable   \n",
       "\n",
       "                                            body_url  \\\n",
       "0  four ways bob corker skewered donald trump ant...   \n",
       "1  last flag flying a comedy drama about vietnam ...   \n",
       "2  u s hedge fund elliott management corp has rai...   \n",
       "3  rapper nelly arrested over alleged tour bus ra...   \n",
       "4  sections sections top stories video live u s p...   \n",
       "\n",
       "                                          title_stem  \\\n",
       "0            four way bob corker skewer donald trump   \n",
       "1  linklat war veteran comedi speak modern americ...   \n",
       "2  elliott up hitachi kokusai stake kkr rais offe...   \n",
       "3             rapper nelli arrest alleg tour bu rape   \n",
       "4                                       page unavail   \n",
       "\n",
       "                                           body_stem  link_cnt process_state  \n",
       "0  four way bob corker skewer donald trump anthon...     111.0          Pass  \n",
       "1  last flag fli comedi drama vietnam war veteran...      18.0          Pass  \n",
       "2  u hedg fund elliott manag corp rais stake japa...      16.0          Pass  \n",
       "3  rapper nelli arrest alleg tour bu rape publish...     107.0          Pass  \n",
       "4  section section top stori video live u polit e...      67.0          Pass  "
      ]
     },
     "execution_count": 12,
     "metadata": {},
     "output_type": "execute_result"
    }
   ],
   "source": [
    "loc = f'{store_loc}URL_True.csv'\n",
    "print(loc)\n",
    "df = pd.read_csv(loc)\n",
    "\n",
    "# Replace the missing link_cnt values\n",
    "avg_link_cnt = np.rint(np.mean(df.link_cnt))\n",
    "print(avg_link_cnt)\n",
    "\n",
    "avg_link_cnt = np.rint(np.mean(df.link_cnt[df.link_cnt>0]))\n",
    "print(avg_link_cnt)\n",
    "df.link_cnt = [np.rint(link_cnt) if link_cnt > 0 else avg_link_cnt for link_cnt in df.link_cnt]\n",
    "df.process_state = ['Pass' if len(str_)> 50 else 'Failed' for str_ in df.body_url]\n",
    "# save file\n",
    "df.to_csv(loc,mode='w', header=True, index=False)\n",
    "df = pd.read_csv(loc)\n",
    "df.head()"
   ]
  },
  {
   "cell_type": "code",
   "execution_count": 13,
   "metadata": {},
   "outputs": [
    {
     "data": {
      "text/plain": [
       "0.9978317432784042"
      ]
     },
     "execution_count": 13,
     "metadata": {},
     "output_type": "execute_result"
    }
   ],
   "source": [
    "len(df[df['process_state']=='Pass'])/len(df)"
   ]
  },
  {
   "cell_type": "code",
   "execution_count": 14,
   "metadata": {},
   "outputs": [
    {
     "data": {
      "text/plain": [
       "2301"
      ]
     },
     "execution_count": 14,
     "metadata": {},
     "output_type": "execute_result"
    }
   ],
   "source": [
    "len(df[df['process_state']=='Pass'])"
   ]
  },
  {
   "cell_type": "code",
   "execution_count": 15,
   "metadata": {},
   "outputs": [
    {
     "data": {
      "text/plain": [
       "2306"
      ]
     },
     "execution_count": 15,
     "metadata": {},
     "output_type": "execute_result"
    }
   ],
   "source": [
    "len(df)"
   ]
  },
  {
   "cell_type": "code",
   "execution_count": 16,
   "metadata": {},
   "outputs": [
    {
     "name": "stdout",
     "output_type": "stream",
     "text": [
      "This notebook took 136 min to run.\n"
     ]
    }
   ],
   "source": [
    "Notebook_end = time.time()\n",
    "Total_Notebook_Time = round((Notebook_end - Notebook_start)/60.0,)\n",
    "print(f'This notebook took {Total_Notebook_Time} min to run.')"
   ]
  }
 ],
 "metadata": {
  "kernelspec": {
   "display_name": "Python 3",
   "language": "python",
   "name": "python3"
  },
  "language_info": {
   "codemirror_mode": {
    "name": "ipython",
    "version": 3
   },
   "file_extension": ".py",
   "mimetype": "text/x-python",
   "name": "python",
   "nbconvert_exporter": "python",
   "pygments_lexer": "ipython3",
   "version": "3.8.8"
  }
 },
 "nbformat": 4,
 "nbformat_minor": 4
}
